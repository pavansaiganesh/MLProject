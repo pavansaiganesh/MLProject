{
 "cells": [
  {
   "cell_type": "code",
   "execution_count": 1,
   "id": "aab4a37e-c376-46db-acd2-ce94b980375b",
   "metadata": {},
   "outputs": [],
   "source": [
    "import numpy as np \n",
    "import pandas as pd\n",
    "import matplotlib.pyplot as plt"
   ]
  },
  {
   "cell_type": "code",
   "execution_count": 2,
   "id": "90e3ae71-81f2-401b-bc97-326a59879851",
   "metadata": {},
   "outputs": [],
   "source": [
    "data = pd.read_csv(\"../reference_data/mbti_1.csv\")"
   ]
  },
  {
   "cell_type": "code",
   "execution_count": 3,
   "id": "c7aec5fe-2160-4fed-9deb-6552a0ba9ac7",
   "metadata": {},
   "outputs": [
    {
     "data": {
      "text/html": [
       "<div>\n",
       "<style scoped>\n",
       "    .dataframe tbody tr th:only-of-type {\n",
       "        vertical-align: middle;\n",
       "    }\n",
       "\n",
       "    .dataframe tbody tr th {\n",
       "        vertical-align: top;\n",
       "    }\n",
       "\n",
       "    .dataframe thead th {\n",
       "        text-align: right;\n",
       "    }\n",
       "</style>\n",
       "<table border=\"1\" class=\"dataframe\">\n",
       "  <thead>\n",
       "    <tr style=\"text-align: right;\">\n",
       "      <th></th>\n",
       "      <th>type</th>\n",
       "      <th>posts</th>\n",
       "    </tr>\n",
       "  </thead>\n",
       "  <tbody>\n",
       "    <tr>\n",
       "      <th>0</th>\n",
       "      <td>INFJ</td>\n",
       "      <td>'http://www.youtube.com/watch?v=qsXHcwe3krw|||...</td>\n",
       "    </tr>\n",
       "    <tr>\n",
       "      <th>1</th>\n",
       "      <td>ENTP</td>\n",
       "      <td>'I'm finding the lack of me in these posts ver...</td>\n",
       "    </tr>\n",
       "    <tr>\n",
       "      <th>2</th>\n",
       "      <td>INTP</td>\n",
       "      <td>'Good one  _____   https://www.youtube.com/wat...</td>\n",
       "    </tr>\n",
       "    <tr>\n",
       "      <th>3</th>\n",
       "      <td>INTJ</td>\n",
       "      <td>'Dear INTP,   I enjoyed our conversation the o...</td>\n",
       "    </tr>\n",
       "    <tr>\n",
       "      <th>4</th>\n",
       "      <td>ENTJ</td>\n",
       "      <td>'You're fired.|||That's another silly misconce...</td>\n",
       "    </tr>\n",
       "  </tbody>\n",
       "</table>\n",
       "</div>"
      ],
      "text/plain": [
       "   type                                              posts\n",
       "0  INFJ  'http://www.youtube.com/watch?v=qsXHcwe3krw|||...\n",
       "1  ENTP  'I'm finding the lack of me in these posts ver...\n",
       "2  INTP  'Good one  _____   https://www.youtube.com/wat...\n",
       "3  INTJ  'Dear INTP,   I enjoyed our conversation the o...\n",
       "4  ENTJ  'You're fired.|||That's another silly misconce..."
      ]
     },
     "execution_count": 3,
     "metadata": {},
     "output_type": "execute_result"
    }
   ],
   "source": [
    "data.head()"
   ]
  },
  {
   "cell_type": "code",
   "execution_count": 4,
   "id": "ae81ad4d-2c9b-48ef-a459-9fc0be5f86b6",
   "metadata": {},
   "outputs": [
    {
     "data": {
      "text/plain": [
       "array(['ENFJ', 'ENFP', 'ENTJ', 'ENTP', 'ESFJ', 'ESFP', 'ESTJ', 'ESTP',\n",
       "       'INFJ', 'INFP', 'INTJ', 'INTP', 'ISFJ', 'ISFP', 'ISTJ', 'ISTP'],\n",
       "      dtype=object)"
      ]
     },
     "execution_count": 4,
     "metadata": {},
     "output_type": "execute_result"
    }
   ],
   "source": [
    "types = np.unique(data.type.values)\n",
    "types"
   ]
  },
  {
   "cell_type": "code",
   "execution_count": 5,
   "id": "2b163657-6fc8-4f08-ba03-ea922d307e1f",
   "metadata": {},
   "outputs": [
    {
     "data": {
      "text/plain": [
       "type     False\n",
       "posts    False\n",
       "dtype: bool"
      ]
     },
     "execution_count": 5,
     "metadata": {},
     "output_type": "execute_result"
    }
   ],
   "source": [
    "data.isnull().any()"
   ]
  },
  {
   "cell_type": "code",
   "execution_count": 6,
   "id": "67c1fda9-19fc-4605-b85a-cae50e6df797",
   "metadata": {},
   "outputs": [
    {
     "name": "stdout",
     "output_type": "stream",
     "text": [
      "There are 8675 rows and 2 columns\n"
     ]
    }
   ],
   "source": [
    "nRow, nCol = data.shape\n",
    "print(f'There are {nRow} rows and {nCol} columns')"
   ]
  },
  {
   "cell_type": "code",
   "execution_count": 7,
   "id": "df47aa7f-6c72-4f59-b42d-6ce122c616e1",
   "metadata": {},
   "outputs": [],
   "source": [
    "row1posts = data.iloc[0, 1].split('|||')"
   ]
  },
  {
   "cell_type": "code",
   "execution_count": 8,
   "id": "2bfb7664-3751-47b8-b666-bce318f0dd78",
   "metadata": {},
   "outputs": [
    {
     "data": {
      "text/plain": [
       "50"
      ]
     },
     "execution_count": 8,
     "metadata": {},
     "output_type": "execute_result"
    }
   ],
   "source": [
    "len(row1posts)"
   ]
  },
  {
   "cell_type": "code",
   "execution_count": 9,
   "id": "96ad95fe-41bf-4f36-8984-d0b464418c67",
   "metadata": {},
   "outputs": [
    {
     "data": {
      "text/html": [
       "<div>\n",
       "<style scoped>\n",
       "    .dataframe tbody tr th:only-of-type {\n",
       "        vertical-align: middle;\n",
       "    }\n",
       "\n",
       "    .dataframe tbody tr th {\n",
       "        vertical-align: top;\n",
       "    }\n",
       "\n",
       "    .dataframe thead th {\n",
       "        text-align: right;\n",
       "    }\n",
       "</style>\n",
       "<table border=\"1\" class=\"dataframe\">\n",
       "  <thead>\n",
       "    <tr style=\"text-align: right;\">\n",
       "      <th></th>\n",
       "      <th>posts</th>\n",
       "    </tr>\n",
       "    <tr>\n",
       "      <th>type</th>\n",
       "      <th></th>\n",
       "    </tr>\n",
       "  </thead>\n",
       "  <tbody>\n",
       "    <tr>\n",
       "      <th>ENFJ</th>\n",
       "      <td>9500</td>\n",
       "    </tr>\n",
       "    <tr>\n",
       "      <th>ENFP</th>\n",
       "      <td>33750</td>\n",
       "    </tr>\n",
       "    <tr>\n",
       "      <th>ENTJ</th>\n",
       "      <td>11550</td>\n",
       "    </tr>\n",
       "    <tr>\n",
       "      <th>ENTP</th>\n",
       "      <td>34250</td>\n",
       "    </tr>\n",
       "    <tr>\n",
       "      <th>ESFJ</th>\n",
       "      <td>2100</td>\n",
       "    </tr>\n",
       "    <tr>\n",
       "      <th>ESFP</th>\n",
       "      <td>2400</td>\n",
       "    </tr>\n",
       "    <tr>\n",
       "      <th>ESTJ</th>\n",
       "      <td>1950</td>\n",
       "    </tr>\n",
       "    <tr>\n",
       "      <th>ESTP</th>\n",
       "      <td>4450</td>\n",
       "    </tr>\n",
       "    <tr>\n",
       "      <th>INFJ</th>\n",
       "      <td>73500</td>\n",
       "    </tr>\n",
       "    <tr>\n",
       "      <th>INFP</th>\n",
       "      <td>91600</td>\n",
       "    </tr>\n",
       "    <tr>\n",
       "      <th>INTJ</th>\n",
       "      <td>54550</td>\n",
       "    </tr>\n",
       "    <tr>\n",
       "      <th>INTP</th>\n",
       "      <td>65200</td>\n",
       "    </tr>\n",
       "    <tr>\n",
       "      <th>ISFJ</th>\n",
       "      <td>8300</td>\n",
       "    </tr>\n",
       "    <tr>\n",
       "      <th>ISFP</th>\n",
       "      <td>13550</td>\n",
       "    </tr>\n",
       "    <tr>\n",
       "      <th>ISTJ</th>\n",
       "      <td>10250</td>\n",
       "    </tr>\n",
       "    <tr>\n",
       "      <th>ISTP</th>\n",
       "      <td>16850</td>\n",
       "    </tr>\n",
       "  </tbody>\n",
       "</table>\n",
       "</div>"
      ],
      "text/plain": [
       "      posts\n",
       "type       \n",
       "ENFJ   9500\n",
       "ENFP  33750\n",
       "ENTJ  11550\n",
       "ENTP  34250\n",
       "ESFJ   2100\n",
       "ESFP   2400\n",
       "ESTJ   1950\n",
       "ESTP   4450\n",
       "INFJ  73500\n",
       "INFP  91600\n",
       "INTJ  54550\n",
       "INTP  65200\n",
       "ISFJ   8300\n",
       "ISFP  13550\n",
       "ISTJ  10250\n",
       "ISTP  16850"
      ]
     },
     "execution_count": 9,
     "metadata": {},
     "output_type": "execute_result"
    }
   ],
   "source": [
    "types=list(types)\n",
    "total = data.groupby(['type']).count()*50\n",
    "total"
   ]
  },
  {
   "cell_type": "code",
   "execution_count": 10,
   "id": "aa131737-4f7e-4fa0-be2a-9a7a7d652f14",
   "metadata": {},
   "outputs": [
    {
     "data": {
      "text/plain": [
       "Text(0.5, 1.0, 'Total posts for each personality type')"
      ]
     },
     "execution_count": 10,
     "metadata": {},
     "output_type": "execute_result"
    },
    {
     "data": {
      "image/png": "[encoded data removed]",
      "text/plain": [
       "<Figure size 1200x600 with 1 Axes>"
      ]
     },
     "metadata": {},
     "output_type": "display_data"
    }
   ],
   "source": [
    "plt.figure(figsize=(12,6))\n",
    "plt.bar(np.array(total.index), height = total['posts'],)\n",
    "plt.xlabel('Personality types')\n",
    "plt.ylabel('Number of posts available')\n",
    "plt.title('Total posts for each personality type')"
   ]
  },
  {
   "cell_type": "code",
   "execution_count": 11,
   "id": "3c15e848-5ee9-4bd5-8bbc-ee01140b9141",
   "metadata": {},
   "outputs": [],
   "source": [
    "import re\n",
    "import string\n",
    "\n",
    "def text_preprocessing(text):\n",
    "    regex = re.compile('[%s]' % re.escape('|')) # create a regex to match the '|' character in a string\n",
    "    text = regex.sub(\" \", text) # replace '|' with \" \"\n",
    "    words = str(text).split() # creates a list of words\n",
    "    words = [i.lower() + \" \" for i in words] # Lowercasing and Appending Space\n",
    "    words = [i for i in words if not \"http\" in i] # removes http substring\n",
    "    words = \" \".join(words)\n",
    "    words = words.translate(words.maketrans('', '', string.punctuation)) # removes punctuations\n",
    "    return words"
   ]
  },
  {
   "cell_type": "code",
   "execution_count": 12,
   "id": "5acaae43-2756-49d4-b8c3-67038f8b0880",
   "metadata": {},
   "outputs": [],
   "source": [
    "classes = {\"I\":0, \"E\":1, \n",
    "           \"N\":0,\"S\":1, \n",
    "           \"T\":0, \"F\":1, \n",
    "           \"J\":0,\"P\":1}"
   ]
  },
  {
   "cell_type": "code",
   "execution_count": 13,
   "id": "04a66ebf-101b-47aa-80f5-e14e31f5a330",
   "metadata": {},
   "outputs": [],
   "source": [
    "labels = []\n",
    "for personality in data[\"type\"]:\n",
    "    pers_vect = []\n",
    "    for p in personality:\n",
    "        pers_vect.append(classes[p])\n",
    "    labels.append(pers_vect)\n",
    "    \n",
    "sentences = data[\"posts\"].apply(str).apply(lambda x: text_preprocessing(x))\n",
    "labels = np.array(labels, dtype=\"float32\")"
   ]
  },
  {
   "cell_type": "code",
   "execution_count": 14,
   "id": "87c2c714-5f61-44dc-af45-3e657e61407b",
   "metadata": {},
   "outputs": [
    {
     "data": {
      "text/plain": [
       "'enfp  and  intj  moments  sportscenter  not  top  ten  plays  pranks  what  has  been  the  most  lifechanging  experience  in  your  life  on  repeat  for  most  of  today  may  the  perc  experience  immerse  you  the  last  thing  my  infj  friend  posted  on  his  facebook  before  committing  suicide  the  next  day  rest  in  peace  hello  enfj7  sorry  to  hear  of  your  distress  its  only  natural  for  a  relationship  to  not  be  perfection  all  the  time  in  every  moment  of  existence  try  to  figure  the  hard  times  as  times  of  growth  as  84389  84390    welcome  and  stuff  game  set  match  prozac  wellbrutin  at  least  thirty  minutes  of  moving  your  legs  and  i  dont  mean  moving  them  while  sitting  in  your  same  desk  chair  weed  in  moderation  maybe  try  edibles  as  a  healthier  alternative  basically  come  up  with  three  items  youve  determined  that  each  type  or  whichever  types  you  want  to  do  would  more  than  likely  use  given  each  types  cognitive  functions  and  whatnot  when  left  by  all  things  in  moderation  sims  is  indeed  a  video  game  and  a  good  one  at  that  note  a  good  one  at  that  is  somewhat  subjective  in  that  i  am  not  completely  promoting  the  death  of  any  given  sim  dear  enfp  what  were  your  favorite  video  games  growing  up  and  what  are  your  now  current  favorite  video  games  cool  it  appears  to  be  too  late  sad  theres  someone  out  there  for  everyone  wait  i  thought  confidence  was  a  good  thing  i  just  cherish  the  time  of  solitude  bc  i  revel  within  my  inner  world  more  whereas  most  other  time  id  be  workin  just  enjoy  the  me  time  while  you  can  dont  worry  people  will  always  be  around  to  yo  entp  ladies  if  youre  into  a  complimentary  personalitywell  hey    when  your  main  social  outlet  is  xbox  live  conversations  and  even  then  you  verbally  fatigue  quickly  i  really  dig  the  part  from  146  to  250  banned  because  this  thread  requires  it  of  me  get  high  in  backyard  roast  and  eat  marshmellows  in  backyard  while  conversing  over  something  intellectual  followed  by  massages  and  kisses  banned  for  too  many  bs  in  that  sentence  how  could  you  think  of  the  b  banned  for  watching  movies  in  the  corner  with  the  dunces  banned  because  health  class  clearly  taught  you  nothing  about  peer  pressure  banned  for  a  whole  host  of  reasons  1  two  baby  deer  on  left  and  right  munching  on  a  beetle  in  the  middle  2  using  their  own  blood  two  cavemen  diary  todays  latest  happenings  on  their  designated  cave  diary  wall  3  i  see  it  as  a  pokemon  world  an  infj  society  everyone  becomes  an  optimist  49142  not  all  artists  are  artists  because  they  draw  its  the  idea  that  counts  in  forming  something  of  your  own  like  a  signature  welcome  to  the  robot  ranks  person  who  downed  my  selfesteem  cuz  im  not  an  avid  signature  artist  like  herself  proud  banned  for  taking  all  the  room  under  my  bed  ya  gotta  learn  to  share  with  the  roaches  banned  for  being  too  much  of  a  thundering  grumbling  kind  of  storm  yep  ahh  old  high  school  music  i  havent  heard  in  ages  i  failed  a  public  speaking  class  a  few  years  ago  and  ive  sort  of  learned  what  i  could  do  better  were  i  to  be  in  that  position  again  a  big  part  of  my  failure  was  just  overloading  myself  with  too  i  like  this  persons  mentality  hes  a  confirmed  intj  by  the  way  move  to  the  denver  area  and  start  a  new  life  for  myself '"
      ]
     },
     "execution_count": 14,
     "metadata": {},
     "output_type": "execute_result"
    }
   ],
   "source": [
    "sentences[0]"
   ]
  },
  {
   "cell_type": "code",
   "execution_count": 15,
   "id": "c0e3e181-fd05-43dd-b91a-494c21e03074",
   "metadata": {},
   "outputs": [
    {
     "data": {
      "text/plain": [
       "array([0., 0., 1., 0.], dtype=float32)"
      ]
     },
     "execution_count": 15,
     "metadata": {},
     "output_type": "execute_result"
    }
   ],
   "source": [
    "labels[0]"
   ]
  },
  {
   "cell_type": "code",
   "execution_count": 16,
   "id": "02f6e995-ad90-458c-9b8b-71488d3274b8",
   "metadata": {},
   "outputs": [],
   "source": [
    "train_n=6624\n",
    "val_n=1024\n",
    "test_n=1024\n",
    "\n",
    "train_sentences = sentences[:train_n]\n",
    "y_train = labels[:train_n]\n",
    "\n",
    "val_sentences = sentences[train_n:train_n+val_n]\n",
    "y_val = labels[train_n:train_n+val_n]\n",
    "\n",
    "test_sentences = sentences[train_n+val_n:train_n+val_n+test_n]\n",
    "y_test = labels[train_n+val_n:train_n+val_n+test_n]"
   ]
  },
  {
   "cell_type": "code",
   "execution_count": 17,
   "id": "693eb518-695f-4433-ba73-1eb53cb2a16f",
   "metadata": {},
   "outputs": [
    {
     "data": {
      "text/plain": [
       "0       enfp  and  intj  moments  sportscenter  not  t...\n",
       "1       im  finding  the  lack  of  me  in  these  pos...\n",
       "2       good  one    of  course  to  which  i  say  i ...\n",
       "3       dear  intp  i  enjoyed  our  conversation  the...\n",
       "4       youre  fired  thats  another  silly  misconcep...\n",
       "                              ...                        \n",
       "6619    mmiddleton84  im  infp  according  to  the  pr...\n",
       "6620    i  think  im  facing  a  burnout  of  some  ki...\n",
       "6621    that  or  this  pretty  awesome  i  have  neve...\n",
       "6622    i  tend  to  connect  actions  with  each  oth...\n",
       "6623    counselor  your  interactive  orientation  emo...\n",
       "Name: posts, Length: 6624, dtype: object"
      ]
     },
     "execution_count": 17,
     "metadata": {},
     "output_type": "execute_result"
    }
   ],
   "source": [
    "train_sentences"
   ]
  },
  {
   "cell_type": "code",
   "execution_count": 18,
   "id": "b04b29b2-e699-409f-8d29-76f976e7feb3",
   "metadata": {},
   "outputs": [
    {
     "data": {
      "text/plain": [
       "array([[0., 0., 1., 0.],\n",
       "       [1., 0., 0., 1.],\n",
       "       [0., 0., 0., 1.],\n",
       "       ...,\n",
       "       [0., 1., 0., 1.],\n",
       "       [0., 0., 0., 1.],\n",
       "       [0., 0., 0., 1.]], dtype=float32)"
      ]
     },
     "execution_count": 18,
     "metadata": {},
     "output_type": "execute_result"
    }
   ],
   "source": [
    "y_train"
   ]
  },
  {
   "cell_type": "code",
   "execution_count": 21,
   "id": "cd39cb86-58a7-4493-b675-07e6f64e1ed7",
   "metadata": {},
   "outputs": [],
   "source": [
    "from transformers import TFBertModel, BertTokenizer\n",
    "\n",
    "MAX_SEQ_LEN = 128\n",
    "BERT_NAME = 'bert-base-uncased'\n",
    "\n",
    "def prepare_bert_input(sentences, seq_len, bert_name):\n",
    "    tokenizer = BertTokenizer.from_pretrained(bert_name) \n",
    "    encodings = tokenizer(sentences.tolist(), truncation=True, padding='max_length',\n",
    "                                max_length=seq_len)\n",
    "    \n",
    "    # The tokenizer returns a dictionary\n",
    "    # truncation=True: Truncate the sequences to fit the maximum length if they exceed it.\n",
    "    \n",
    "    \n",
    "    input = [np.array(encodings[\"input_ids\"]), np.array(encodings[\"token_type_ids\"]),\n",
    "               np.array(encodings[\"attention_mask\"])]\n",
    "    # the key input_ids are token indices, numerical representations of tokens\n",
    "    # for encoding a single sentence, all token type IDs will be 0, for encoding a pair of sentences the token type IDs will distinguish between the tokens of the two sentences. \n",
    "    # attention mask indicates which tokens should be attended to and which ones should be ignored. Each 1 in the attention mask indicates a token that should be attended to, while each 0 indicates a token that should be ignored (typically padding tokens).\n",
    "\n",
    "    return input"
   ]
  },
  {
   "cell_type": "code",
   "execution_count": 22,
   "id": "9377cf28-1e7d-4c2a-8f6d-97c882ca52d1",
   "metadata": {},
   "outputs": [],
   "source": [
    "X_train = prepare_bert_input(train_sentences, MAX_SEQ_LEN, BERT_NAME)\n",
    "X_val = prepare_bert_input(val_sentences, MAX_SEQ_LEN, BERT_NAME)\n",
    "X_test = prepare_bert_input(test_sentences, MAX_SEQ_LEN, BERT_NAME)"
   ]
  },
  {
   "cell_type": "code",
   "execution_count": 25,
   "id": "ea48b412-04c9-4a81-a8a8-9d3a328f5c6b",
   "metadata": {
    "scrolled": true
   },
   "outputs": [
    {
     "name": "stderr",
     "output_type": "stream",
     "text": [
      "Some weights of the PyTorch model were not used when initializing the TF 2.0 model TFBertModel: ['cls.seq_relationship.weight', 'cls.predictions.transform.dense.weight', 'cls.predictions.bias', 'cls.predictions.transform.dense.bias', 'cls.seq_relationship.bias', 'cls.predictions.transform.LayerNorm.weight', 'cls.predictions.transform.LayerNorm.bias']\n",
      "- This IS expected if you are initializing TFBertModel from a PyTorch model trained on another task or with another architecture (e.g. initializing a TFBertForSequenceClassification model from a BertForPreTraining model).\n",
      "- This IS NOT expected if you are initializing TFBertModel from a PyTorch model that you expect to be exactly identical (e.g. initializing a TFBertForSequenceClassification model from a BertForSequenceClassification model).\n",
      "All the weights of TFBertModel were initialized from the PyTorch model.\n",
      "If your task is similar to the task the model of the checkpoint was trained on, you can already use TFBertModel for predictions without further training.\n"
     ]
    },
    {
     "name": "stdout",
     "output_type": "stream",
     "text": [
      "Model: \"model\"\n",
      "__________________________________________________________________________________________________\n",
      " Layer (type)                Output Shape                 Param #   Connected to                  \n",
      "==================================================================================================\n",
      " input_ids (InputLayer)      [(None, 128)]                0         []                            \n",
      "                                                                                                  \n",
      " token_type_ids (InputLayer  [(None, 128)]                0         []                            \n",
      " )                                                                                                \n",
      "                                                                                                  \n",
      " attention_mask (InputLayer  [(None, 128)]                0         []                            \n",
      " )                                                                                                \n",
      "                                                                                                  \n",
      " tf_bert_model_1 (TFBertMod  TFBaseModelOutputWithPooli   1094822   ['input_ids[0][0]',           \n",
      " el)                         ngAndCrossAttentions(last_   40         'token_type_ids[0][0]',      \n",
      "                             hidden_state=(None, 128, 7              'attention_mask[0][0]']      \n",
      "                             68),                                                                 \n",
      "                              pooler_output=(None, 768)                                           \n",
      "                             , past_key_values=None, hi                                           \n",
      "                             dden_states=None, attentio                                           \n",
      "                             ns=None, cross_attentions=                                           \n",
      "                             None)                                                                \n",
      "                                                                                                  \n",
      " global_average_pooling1d_1  (None, 768)                  0         ['tf_bert_model_1[0][0]']     \n",
      "  (GlobalAveragePooling1D)                                                                        \n",
      "                                                                                                  \n",
      " dense (Dense)               (None, 4)                    3076      ['global_average_pooling1d_1[0\n",
      "                                                                    ][0]']                        \n",
      "                                                                                                  \n",
      "==================================================================================================\n",
      "Total params: 109485316 (417.65 MB)\n",
      "Trainable params: 109485316 (417.65 MB)\n",
      "Non-trainable params: 0 (0.00 Byte)\n",
      "__________________________________________________________________________________________________\n"
     ]
    }
   ],
   "source": [
    "#Model architecture\n",
    "import tensorflow as tf\n",
    "import tensorflow_addons as tfa\n",
    "import tensorflow.keras as keras\n",
    "import tensorflow.keras.layers as layers\n",
    "from tensorflow.keras.callbacks import ModelCheckpoint\n",
    "\n",
    "N_AXIS = 4\n",
    "input_ids = layers.Input(shape=(MAX_SEQ_LEN,), dtype=tf.int32, name='input_ids')\n",
    "input_type = layers.Input(shape=(MAX_SEQ_LEN,), dtype=tf.int32, name='token_type_ids')\n",
    "input_mask = layers.Input(shape=(MAX_SEQ_LEN,), dtype=tf.int32, name='attention_mask')\n",
    "inputs = [input_ids, input_type, input_mask]\n",
    "\n",
    "bert = TFBertModel.from_pretrained(BERT_NAME)\n",
    "bert_outputs = bert(inputs)\n",
    "\n",
    "last_hidden_states = bert_outputs.last_hidden_state\n",
    "avg = layers.GlobalAveragePooling1D()(last_hidden_states)\n",
    "output = layers.Dense(N_AXIS, activation=\"sigmoid\")(avg)\n",
    "\n",
    "model = keras.Model(inputs=inputs, outputs=output)\n",
    "model.summary()"
   ]
  },
  {
   "cell_type": "code",
   "execution_count": null,
   "id": "bb025baa-b0da-4349-9d43-6a6c6adddbed",
   "metadata": {},
   "outputs": [],
   "source": [
    "max_epochs = 8\n",
    "batch_size = 32\n",
    "opt = tfa.optimizers.RectifiedAdam(learning_rate=3e-5)\n",
    "loss = keras.losses.BinaryCrossentropy()\n",
    "best_weights_file = \"bert_base_mode11.h5\"\n",
    "auc = keras.metrics.AUC(multi_label=True, curve=\"ROC\")\n",
    "\n",
    "m_ckpt = ModelCheckpoint(best_weights_file, monitor='val_'+auc.name, mode='max', verbose=2,\n",
    "                          save_weights_only=True, save_best_only=True)\n",
    "\n",
    "model.compile(loss=loss, optimizer=opt, metrics=[auc, keras.metrics.BinaryAccuracy()])\n",
    "\n",
    "model.fit(\n",
    "    X_train, y_train,\n",
    "    validation_data=(X_val, y_val),\n",
    "    epochs=max_epochs,\n",
    "    batch_size=batch_size,\n",
    "    callbacks=[m_ckpt],\n",
    "    verbose=2\n",
    ")"
   ]
  },
  {
   "cell_type": "code",
   "execution_count": 28,
   "id": "126f182d-22a2-4bfe-b475-ee41a0574165",
   "metadata": {},
   "outputs": [],
   "source": [
    "#After training, create a new model and load the weights\n",
    "\n",
    "def recreate_model(): \n",
    "    input_ids = tf.keras.layers.Input(shape=(MAX_SEQ_LEN,), dtype=tf.int32, name='input_ids')\n",
    "    input_type = tf.keras.layers.Input(shape=(MAX_SEQ_LEN,), dtype=tf.int32, name='token_type_ids')\n",
    "    input_mask = tf.keras.layers.Input(shape=(MAX_SEQ_LEN,), dtype=tf.int32, name='attention_mask')\n",
    "    inputs = [input_ids, input_type, input_mask]\n",
    "    bert = TFBertModel.from_pretrained(BERT_NAME)\n",
    "    bert_outputs = bert(inputs)\n",
    "    last_hidden_states = bert_outputs.last_hidden_state\n",
    "    avg = tf.keras.layers.GlobalAveragePooling1D()(last_hidden_states)\n",
    "    output = tf.keras.layers.Dense(N_AXIS, activation=\"sigmoid\")(avg)\n",
    "    \n",
    "    model = tf.keras.models.Model(inputs=inputs, outputs=output)\n",
    "    loss = tf.keras.losses.BinaryCrossentropy()\n",
    "    model.compile(loss=loss, optimizer=tf.keras.optimizers.Adam(\n",
    "    learning_rate=0.00001), metrics=[keras.metrics.AUC(multi_label=True, curve=\"ROC\"),\n",
    "                                                  keras.metrics.BinaryAccuracy()])\n",
    "    model.load_weights(\"bert_base_model1.h5\")\n",
    "    return model"
   ]
  },
  {
   "cell_type": "code",
   "execution_count": 29,
   "id": "f2c1a730-272c-40fd-aefd-570e29cc7ff3",
   "metadata": {},
   "outputs": [
    {
     "name": "stderr",
     "output_type": "stream",
     "text": [
      "Some weights of the PyTorch model were not used when initializing the TF 2.0 model TFBertModel: ['cls.seq_relationship.weight', 'cls.predictions.transform.dense.weight', 'cls.predictions.bias', 'cls.predictions.transform.dense.bias', 'cls.seq_relationship.bias', 'cls.predictions.transform.LayerNorm.weight', 'cls.predictions.transform.LayerNorm.bias']\n",
      "- This IS expected if you are initializing TFBertModel from a PyTorch model trained on another task or with another architecture (e.g. initializing a TFBertForSequenceClassification model from a BertForPreTraining model).\n",
      "- This IS NOT expected if you are initializing TFBertModel from a PyTorch model that you expect to be exactly identical (e.g. initializing a TFBertForSequenceClassification model from a BertForSequenceClassification model).\n",
      "All the weights of TFBertModel were initialized from the PyTorch model.\n",
      "If your task is similar to the task the model of the checkpoint was trained on, you can already use TFBertModel for predictions without further training.\n"
     ]
    }
   ],
   "source": [
    "new_model = recreate_model()"
   ]
  },
  {
   "cell_type": "code",
   "execution_count": 30,
   "id": "d2500de1-a9ef-4c69-b241-b1df48a7c3fa",
   "metadata": {},
   "outputs": [
    {
     "name": "stdout",
     "output_type": "stream",
     "text": [
      "32/32 [==============================] - 150s 5s/step\n",
      "32/32 [==============================] - 158s 5s/step - loss: 0.4878 - auc_1: 0.7850 - binary_accuracy: 0.7681\n"
     ]
    },
    {
     "data": {
      "text/plain": [
       "[0.4877961277961731, 0.7849863767623901, 0.76806640625]"
      ]
     },
     "execution_count": 30,
     "metadata": {},
     "output_type": "execute_result"
    }
   ],
   "source": [
    "predictions = new_model.predict(X_test)\n",
    "new_model.evaluate(X_test, y_test, batch_size=32)"
   ]
  },
  {
   "cell_type": "code",
   "execution_count": 45,
   "id": "515f8afa-a8f9-48c9-be99-dcc3d200e40a",
   "metadata": {},
   "outputs": [
    {
     "name": "stdout",
     "output_type": "stream",
     "text": [
      "1/1 [==============================] - 0s 271ms/step\n",
      "-- comment: I'm feeling on top of the world right now. Who wants to celebrate with me? Let's make this event unforgettable; I've got some crazy ideas in mind!\n",
      "-- personality: ['I', 'N', 'F', 'P']\n",
      "-- scores:[0.15022843 0.37541008 0.50061625 0.7907001 ]\n",
      "INFP\n"
     ]
    }
   ],
   "source": [
    "axes = [\"I-E\",\"N-S\",\"T-F\",\"J-P\"]\n",
    "input_text = \"I'm feeling on top of the world right now. Who wants to celebrate with me? Let's make this event unforgettable; I've got some crazy ideas in mind!\"\n",
    "sentences = np.asarray([input_text])\n",
    "enc_sentences = prepare_bert_input(sentences, MAX_SEQ_LEN, BERT_NAME)\n",
    "predictions1 = new_model.predict(enc_sentences)\n",
    "\n",
    "for sentence, pred in zip(sentences, predictions1):\n",
    "    pred_axis = []\n",
    "    mask = (pred > 0.5).astype(bool)\n",
    "    for i in range(len(mask)):\n",
    "        if mask[i]:\n",
    "            pred_axis.append(axes[i][2])\n",
    "        else:\n",
    "            pred_axis.append(axes[i][0])\n",
    "    print('-- comment: '+sentence.replace(\"\\n\", \"\").strip() +\n",
    "        '\\n-- personality: '+str(pred_axis) +\n",
    "        '\\n-- scores:'+str(pred))\n",
    "result = ''.join(pred_axis)\n",
    "print(result)"
   ]
  },
  {
   "cell_type": "code",
   "execution_count": 48,
   "id": "d9e743b6-1c4d-4349-aaad-2a9e65acd0c8",
   "metadata": {},
   "outputs": [],
   "source": [
    "from sklearn.metrics import auc, roc_curve\n",
    "\n",
    "def plot_roc_auc(y_test, y_score, axes):\n",
    "    plt.figure()\n",
    "    for i in range(len(axes)):\n",
    "        fpr, tpr, _ = roc_curve(y_test[:,i], y_score[:, i])\n",
    "        roc_auc = auc(fpr, tpr)\n",
    "        plt.plot(fpr, tpr, label='ROC curve of class {0} (area = {1:0.2f})'.format(axes[i], roc_auc))\n",
    "        # Compute micro-average ROC curve and ROC area\n",
    "    # Compute micro-average ROC curve and ROC area\n",
    "    fpr, tpr, _ = roc_curve(y_test.ravel(), y_score.ravel())\n",
    "    roc_auc = auc(fpr, tpr)\n",
    "    # Plot ROC curve\n",
    "    plt.plot(fpr, tpr, label='micro-average ROC curve (area = {0:0.2f})'.format(roc_auc))\n",
    "    plt.plot([0, 1], [0, 1], 'k--')\n",
    "    plt.xlim([0.0, 1.0])\n",
    "    plt.ylim([0.0, 1.05])\n",
    "    plt.xlabel('False Positive Rate')\n",
    "    plt.ylabel('True Positive Rate')\n",
    "    plt.title('Receiver operating characteristic')\n",
    "    plt.legend(loc=\"lower right\")\n",
    "    plt.show()"
   ]
  },
  {
   "cell_type": "code",
   "execution_count": 49,
   "id": "2bf00acb-d30f-47f3-8962-427c1e959f1a",
   "metadata": {},
   "outputs": [
    {
     "data": {
      "image/png": "[encoded data removed]",
      "text/plain": [
       "<Figure size 640x480 with 1 Axes>"
      ]
     },
     "metadata": {},
     "output_type": "display_data"
    }
   ],
   "source": [
    "plot_roc_auc(y_test, predictions, axes)"
   ]
  },
  {
   "cell_type": "code",
   "execution_count": null,
   "id": "0fc872df-61f1-466d-9833-afcbdad6a206",
   "metadata": {},
   "outputs": [],
   "source": []
  }
 ],
 "metadata": {
  "kernelspec": {
   "display_name": "Python 3 (ipykernel)",
   "language": "python",
   "name": "python3"
  },
  "language_info": {
   "codemirror_mode": {
    "name": "ipython",
    "version": 3
   },
   "file_extension": ".py",
   "mimetype": "text/x-python",
   "name": "python",
   "nbconvert_exporter": "python",
   "pygments_lexer": "ipython3",
   "version": "3.10.2"
  }
 },
 "nbformat": 4,
 "nbformat_minor": 5
}
